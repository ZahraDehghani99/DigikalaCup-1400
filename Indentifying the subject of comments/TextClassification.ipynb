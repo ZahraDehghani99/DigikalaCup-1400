{
  "nbformat": 4,
  "nbformat_minor": 0,
  "metadata": {
    "colab": {
      "name": "TextClassification.ipynb",
      "provenance": [],
      "collapsed_sections": [],
      "toc_visible": true
    },
    "kernelspec": {
      "name": "python3",
      "display_name": "Python 3"
    },
    "language_info": {
      "name": "python"
    }
  },
  "cells": [
    {
      "cell_type": "markdown",
      "metadata": {
        "id": "3XOwQscZdq9R"
      },
      "source": [
        "# Indentifying the subject of comments"
      ]
    },
    {
      "cell_type": "markdown",
      "metadata": {
        "id": "d_w7kIC4d9YD"
      },
      "source": [
        "## EDA"
      ]
    },
    {
      "cell_type": "code",
      "metadata": {
        "id": "5ahEpURxiyQY"
      },
      "source": [
        "import pandas as pd"
      ],
      "execution_count": null,
      "outputs": []
    },
    {
      "cell_type": "code",
      "metadata": {
        "colab": {
          "base_uri": "https://localhost:8080/"
        },
        "id": "bh38hNB7Zbuk",
        "outputId": "41bb2330-522d-4b9a-dbb2-46ecc2b7c79a"
      },
      "source": [
        "from google.colab import drive\n",
        "drive.mount('/content/drive')"
      ],
      "execution_count": null,
      "outputs": [
        {
          "output_type": "stream",
          "name": "stdout",
          "text": [
            "Mounted at /content/drive\n"
          ]
        }
      ]
    },
    {
      "cell_type": "code",
      "metadata": {
        "id": "RgZGwEoxiylk"
      },
      "source": [
        "# import zipfile\n",
        "# # unzip image file\n",
        "# local_zip = '/content/drive/MyDrive/Intent_analysis.zip'\n",
        "# zip_ref = zipfile.ZipFile(local_zip, 'r')\n",
        "# zip_ref.extractall('/content/drive/MyDrive/Intent_analysis')\n",
        "# zip_ref.close()"
      ],
      "execution_count": null,
      "outputs": []
    },
    {
      "cell_type": "code",
      "metadata": {
        "colab": {
          "base_uri": "https://localhost:8080/"
        },
        "id": "uzxLYk_wkCLV",
        "outputId": "5cf1afd0-f2b2-437c-81d5-e429f5f6781c"
      },
      "source": [
        "# see what folders are in path\n",
        "!ls \"/content/drive/MyDrive/Intent_analysis\""
      ],
      "execution_count": null,
      "outputs": [
        {
          "output_type": "stream",
          "name": "stdout",
          "text": [
            "test.csv  train.csv\n"
          ]
        }
      ]
    },
    {
      "cell_type": "code",
      "metadata": {
        "colab": {
          "base_uri": "https://localhost:8080/"
        },
        "id": "ISc_zonUkR7D",
        "outputId": "4369bb66-7d43-4504-a0bc-d0dacb576abf"
      },
      "source": [
        "train = pd.read_csv('/content/drive/MyDrive/Intent_analysis/train.csv')"
      ],
      "execution_count": null,
      "outputs": [
        {
          "output_type": "stream",
          "name": "stderr",
          "text": [
            "/usr/local/lib/python3.7/dist-packages/IPython/core/interactiveshell.py:2718: DtypeWarning: Columns (2,4,6) have mixed types.Specify dtype option on import or set low_memory=False.\n",
            "  interactivity=interactivity, compiler=compiler, result=result)\n"
          ]
        }
      ]
    },
    {
      "cell_type": "code",
      "metadata": {
        "id": "eNse_zvbkloF"
      },
      "source": [
        "test = pd.read_csv('/content/drive/MyDrive/Intent_analysis/test.csv')"
      ],
      "execution_count": null,
      "outputs": []
    },
    {
      "cell_type": "code",
      "metadata": {
        "colab": {
          "base_uri": "https://localhost:8080/",
          "height": 435
        },
        "id": "KccIFC9Cksh1",
        "outputId": "ed963754-0a0d-465c-ebd1-7ba651ea5f35"
      },
      "source": [
        "train.head()"
      ],
      "execution_count": null,
      "outputs": [
        {
          "output_type": "execute_result",
          "data": {
            "text/html": [
              "<div>\n",
              "<style scoped>\n",
              "    .dataframe tbody tr th:only-of-type {\n",
              "        vertical-align: middle;\n",
              "    }\n",
              "\n",
              "    .dataframe tbody tr th {\n",
              "        vertical-align: top;\n",
              "    }\n",
              "\n",
              "    .dataframe thead th {\n",
              "        text-align: right;\n",
              "    }\n",
              "</style>\n",
              "<table border=\"1\" class=\"dataframe\">\n",
              "  <thead>\n",
              "    <tr style=\"text-align: right;\">\n",
              "      <th></th>\n",
              "      <th>id</th>\n",
              "      <th>comment</th>\n",
              "      <th>product_id</th>\n",
              "      <th>product_title_fa</th>\n",
              "      <th>category_id</th>\n",
              "      <th>category_title_fa</th>\n",
              "      <th>is_buyer</th>\n",
              "      <th>price_value</th>\n",
              "      <th>fake_originality</th>\n",
              "      <th>warranty</th>\n",
              "      <th>size</th>\n",
              "      <th>discrepancy</th>\n",
              "      <th>flavor_odor</th>\n",
              "      <th>expiration_date</th>\n",
              "    </tr>\n",
              "  </thead>\n",
              "  <tbody>\n",
              "    <tr>\n",
              "      <th>0</th>\n",
              "      <td>1215666.0</td>\n",
              "      <td>ارزششو داشت</td>\n",
              "      <td>2802959</td>\n",
              "      <td>جوراب مردانه فیرو پلاس مدل FP200 مجموعه 4 عددی</td>\n",
              "      <td>9456</td>\n",
              "      <td>جوراب و ساق مردانه</td>\n",
              "      <td>True</td>\n",
              "      <td>1.0</td>\n",
              "      <td>0.0</td>\n",
              "      <td>0.0</td>\n",
              "      <td>0.0</td>\n",
              "      <td>0.0</td>\n",
              "      <td>0.0</td>\n",
              "      <td>0.0</td>\n",
              "    </tr>\n",
              "    <tr>\n",
              "      <th>1</th>\n",
              "      <td>1183149.0</td>\n",
              "      <td>یه دستگاه کاربردی فقط ای کاش طرز استفادشو میزد...</td>\n",
              "      <td>1894596</td>\n",
              "      <td>دستگاه سفید کننده دندان دنتال وایت مدل DT-1244</td>\n",
              "      <td>5745</td>\n",
              "      <td>مسواک برقی</td>\n",
              "      <td>True</td>\n",
              "      <td>0.0</td>\n",
              "      <td>0.0</td>\n",
              "      <td>0.0</td>\n",
              "      <td>0.0</td>\n",
              "      <td>0.0</td>\n",
              "      <td>0.0</td>\n",
              "      <td>0.0</td>\n",
              "    </tr>\n",
              "    <tr>\n",
              "      <th>2</th>\n",
              "      <td>1011730.0</td>\n",
              "      <td>خیلی خوب و ارزان</td>\n",
              "      <td>323729</td>\n",
              "      <td>کتاب بهترین قصه ملانصرالدین کلک مرغابی اثر مهر...</td>\n",
              "      <td>5918</td>\n",
              "      <td>کتاب چاپی</td>\n",
              "      <td>True</td>\n",
              "      <td>1.0</td>\n",
              "      <td>0.0</td>\n",
              "      <td>0.0</td>\n",
              "      <td>0.0</td>\n",
              "      <td>0.0</td>\n",
              "      <td>0.0</td>\n",
              "      <td>0.0</td>\n",
              "    </tr>\n",
              "    <tr>\n",
              "      <th>3</th>\n",
              "      <td>1093325.0</td>\n",
              "      <td>اندازش خیلیییییی بزرگ بود</td>\n",
              "      <td>1431242</td>\n",
              "      <td>نوار بهداشتی تافته مدل Thin بسته 7 عددی</td>\n",
              "      <td>6528</td>\n",
              "      <td>نوار بهداشتی</td>\n",
              "      <td>True</td>\n",
              "      <td>0.0</td>\n",
              "      <td>0.0</td>\n",
              "      <td>0.0</td>\n",
              "      <td>1.0</td>\n",
              "      <td>0.0</td>\n",
              "      <td>0.0</td>\n",
              "      <td>0.0</td>\n",
              "    </tr>\n",
              "    <tr>\n",
              "      <th>4</th>\n",
              "      <td>1111983.0</td>\n",
              "      <td>خیلی بد بود و میچسبید به دست</td>\n",
              "      <td>1902220</td>\n",
              "      <td>ژل بازی کد shb57</td>\n",
              "      <td>6083</td>\n",
              "      <td>ابزار شوخی</td>\n",
              "      <td>False</td>\n",
              "      <td>0.0</td>\n",
              "      <td>0.0</td>\n",
              "      <td>0.0</td>\n",
              "      <td>0.0</td>\n",
              "      <td>0.0</td>\n",
              "      <td>0.0</td>\n",
              "      <td>0.0</td>\n",
              "    </tr>\n",
              "  </tbody>\n",
              "</table>\n",
              "</div>"
            ],
            "text/plain": [
              "          id  ... expiration_date\n",
              "0  1215666.0  ...             0.0\n",
              "1  1183149.0  ...             0.0\n",
              "2  1011730.0  ...             0.0\n",
              "3  1093325.0  ...             0.0\n",
              "4  1111983.0  ...             0.0\n",
              "\n",
              "[5 rows x 14 columns]"
            ]
          },
          "metadata": {},
          "execution_count": 8
        }
      ]
    },
    {
      "cell_type": "code",
      "metadata": {
        "colab": {
          "base_uri": "https://localhost:8080/",
          "height": 258
        },
        "id": "Z0Ut33_jktjf",
        "outputId": "aba0996c-8fee-45d7-e78b-c17de2c94c6d"
      },
      "source": [
        "test.head()"
      ],
      "execution_count": null,
      "outputs": [
        {
          "output_type": "execute_result",
          "data": {
            "text/html": [
              "<div>\n",
              "<style scoped>\n",
              "    .dataframe tbody tr th:only-of-type {\n",
              "        vertical-align: middle;\n",
              "    }\n",
              "\n",
              "    .dataframe tbody tr th {\n",
              "        vertical-align: top;\n",
              "    }\n",
              "\n",
              "    .dataframe thead th {\n",
              "        text-align: right;\n",
              "    }\n",
              "</style>\n",
              "<table border=\"1\" class=\"dataframe\">\n",
              "  <thead>\n",
              "    <tr style=\"text-align: right;\">\n",
              "      <th></th>\n",
              "      <th>id</th>\n",
              "      <th>comment</th>\n",
              "      <th>product_id</th>\n",
              "      <th>product_title_fa</th>\n",
              "      <th>category_id</th>\n",
              "      <th>category_title_fa</th>\n",
              "      <th>is_buyer</th>\n",
              "    </tr>\n",
              "  </thead>\n",
              "  <tbody>\n",
              "    <tr>\n",
              "      <th>0</th>\n",
              "      <td>1130083</td>\n",
              "      <td>پیشنهاد میکنم</td>\n",
              "      <td>723251</td>\n",
              "      <td>پایه نگهدارنده شارژر موبایل مدل Stop charge</td>\n",
              "      <td>81.0</td>\n",
              "      <td>پایه نگهدارنده گوشی و تبلت</td>\n",
              "      <td>True</td>\n",
              "    </tr>\n",
              "    <tr>\n",
              "      <th>1</th>\n",
              "      <td>1051036</td>\n",
              "      <td>اول یکی خریدم دیدم خیلی خوبه\\r\\nخداروشکر نظری ...</td>\n",
              "      <td>623643</td>\n",
              "      <td>کابل تبدیل USB به microUSB تسکو مدل TC 50 طول ...</td>\n",
              "      <td>80.0</td>\n",
              "      <td>کابل و مبدل</td>\n",
              "      <td>True</td>\n",
              "    </tr>\n",
              "    <tr>\n",
              "      <th>2</th>\n",
              "      <td>1240179</td>\n",
              "      <td>نسبت به قیمت بصرفه هست</td>\n",
              "      <td>1552547</td>\n",
              "      <td>دستبند مدل S261-A</td>\n",
              "      <td>9541.0</td>\n",
              "      <td>دستبند زنانه و مردانه</td>\n",
              "      <td>True</td>\n",
              "    </tr>\n",
              "    <tr>\n",
              "      <th>3</th>\n",
              "      <td>1197397</td>\n",
              "      <td>داخل توضیحات نوشته درب عقب باز میشه ولی اینطور...</td>\n",
              "      <td>1545300</td>\n",
              "      <td>ماشین بازی طرح وانت نیسان مدل جونیور</td>\n",
              "      <td>6055.0</td>\n",
              "      <td>ماشین</td>\n",
              "      <td>True</td>\n",
              "    </tr>\n",
              "    <tr>\n",
              "      <th>4</th>\n",
              "      <td>1212378</td>\n",
              "      <td>خیلی زود ازبین میره روی پوت نمی مونه اصلا از خ...</td>\n",
              "      <td>81003</td>\n",
              "      <td>کرم پودر تیوبی مای  شماره 202</td>\n",
              "      <td>6462.0</td>\n",
              "      <td>کرم پودر</td>\n",
              "      <td>True</td>\n",
              "    </tr>\n",
              "  </tbody>\n",
              "</table>\n",
              "</div>"
            ],
            "text/plain": [
              "        id  ... is_buyer\n",
              "0  1130083  ...     True\n",
              "1  1051036  ...     True\n",
              "2  1240179  ...     True\n",
              "3  1197397  ...     True\n",
              "4  1212378  ...     True\n",
              "\n",
              "[5 rows x 7 columns]"
            ]
          },
          "metadata": {},
          "execution_count": 9
        }
      ]
    },
    {
      "cell_type": "code",
      "metadata": {
        "colab": {
          "base_uri": "https://localhost:8080/"
        },
        "id": "3ZcJu2BckuuP",
        "outputId": "d789e426-a0ad-4507-f325-e8d3817decaa"
      },
      "source": [
        "train.shape"
      ],
      "execution_count": null,
      "outputs": [
        {
          "output_type": "execute_result",
          "data": {
            "text/plain": [
              "(224130, 14)"
            ]
          },
          "metadata": {},
          "execution_count": 11
        }
      ]
    },
    {
      "cell_type": "code",
      "metadata": {
        "colab": {
          "base_uri": "https://localhost:8080/"
        },
        "id": "M3EF9SB4k0lg",
        "outputId": "0b44ba9d-2986-43c6-cc76-a6f63d974b82"
      },
      "source": [
        "test.shape"
      ],
      "execution_count": null,
      "outputs": [
        {
          "output_type": "execute_result",
          "data": {
            "text/plain": [
              "(56033, 7)"
            ]
          },
          "metadata": {},
          "execution_count": 12
        }
      ]
    },
    {
      "cell_type": "code",
      "metadata": {
        "colab": {
          "base_uri": "https://localhost:8080/"
        },
        "id": "Jz76gG-sk38k",
        "outputId": "e2e9190f-9935-4b5b-cdc2-a8cb0ac7982a"
      },
      "source": [
        "train.info()"
      ],
      "execution_count": null,
      "outputs": [
        {
          "output_type": "stream",
          "name": "stdout",
          "text": [
            "<class 'pandas.core.frame.DataFrame'>\n",
            "RangeIndex: 224130 entries, 0 to 224129\n",
            "Data columns (total 14 columns):\n",
            " #   Column             Non-Null Count   Dtype  \n",
            "---  ------             --------------   -----  \n",
            " 0   id                 224129 non-null  float64\n",
            " 1   comment            224127 non-null  object \n",
            " 2   product_id         224129 non-null  object \n",
            " 3   product_title_fa   224129 non-null  object \n",
            " 4   category_id        224129 non-null  object \n",
            " 5   category_title_fa  224129 non-null  object \n",
            " 6   is_buyer           224129 non-null  object \n",
            " 7   price_value        224129 non-null  float64\n",
            " 8   fake_originality   224129 non-null  float64\n",
            " 9   warranty           224129 non-null  float64\n",
            " 10  size               224129 non-null  float64\n",
            " 11  discrepancy        224129 non-null  float64\n",
            " 12  flavor_odor        224129 non-null  float64\n",
            " 13  expiration_date    224128 non-null  float64\n",
            "dtypes: float64(8), object(6)\n",
            "memory usage: 23.9+ MB\n"
          ]
        }
      ]
    },
    {
      "cell_type": "code",
      "metadata": {
        "colab": {
          "base_uri": "https://localhost:8080/"
        },
        "id": "S1R7qDGilQ8v",
        "outputId": "0aafc2a9-8bf6-4614-9fe9-53007ef701d1"
      },
      "source": [
        "train.isnull().sum()"
      ],
      "execution_count": null,
      "outputs": [
        {
          "output_type": "execute_result",
          "data": {
            "text/plain": [
              "id                   1\n",
              "comment              3\n",
              "product_id           1\n",
              "product_title_fa     1\n",
              "category_id          1\n",
              "category_title_fa    1\n",
              "is_buyer             1\n",
              "price_value          1\n",
              "fake_originality     1\n",
              "warranty             1\n",
              "size                 1\n",
              "discrepancy          1\n",
              "flavor_odor          1\n",
              "expiration_date      2\n",
              "dtype: int64"
            ]
          },
          "metadata": {},
          "execution_count": 14
        }
      ]
    },
    {
      "cell_type": "code",
      "metadata": {
        "id": "5KSdfCU5laOM"
      },
      "source": [
        "# drop all rows with any NaN and NaT values\n",
        "train = train.dropna()"
      ],
      "execution_count": null,
      "outputs": []
    },
    {
      "cell_type": "code",
      "metadata": {
        "colab": {
          "base_uri": "https://localhost:8080/"
        },
        "id": "HPWDSBr0nMdY",
        "outputId": "e24ea33a-86c5-454c-9f00-839c14ba9739"
      },
      "source": [
        "train.isnull().sum()"
      ],
      "execution_count": null,
      "outputs": [
        {
          "output_type": "execute_result",
          "data": {
            "text/plain": [
              "id                   0\n",
              "comment              0\n",
              "product_id           0\n",
              "product_title_fa     0\n",
              "category_id          0\n",
              "category_title_fa    0\n",
              "is_buyer             0\n",
              "price_value          0\n",
              "fake_originality     0\n",
              "warranty             0\n",
              "size                 0\n",
              "discrepancy          0\n",
              "flavor_odor          0\n",
              "expiration_date      0\n",
              "dtype: int64"
            ]
          },
          "metadata": {},
          "execution_count": 16
        }
      ]
    },
    {
      "cell_type": "code",
      "metadata": {
        "colab": {
          "base_uri": "https://localhost:8080/"
        },
        "id": "ZG-CE1jknQx-",
        "outputId": "486d7e06-e5f7-47f4-f420-87950e7fff83"
      },
      "source": [
        "train.shape"
      ],
      "execution_count": null,
      "outputs": [
        {
          "output_type": "execute_result",
          "data": {
            "text/plain": [
              "(224125, 14)"
            ]
          },
          "metadata": {},
          "execution_count": 17
        }
      ]
    },
    {
      "cell_type": "code",
      "metadata": {
        "colab": {
          "base_uri": "https://localhost:8080/"
        },
        "id": "hcXHL8QsL4f5",
        "outputId": "0e8c8159-4d67-479e-8919-56840f38d4b5"
      },
      "source": [
        "test.isnull().sum()"
      ],
      "execution_count": null,
      "outputs": [
        {
          "output_type": "execute_result",
          "data": {
            "text/plain": [
              "id                   0\n",
              "comment              3\n",
              "product_id           0\n",
              "product_title_fa     0\n",
              "category_id          0\n",
              "category_title_fa    0\n",
              "is_buyer             0\n",
              "dtype: int64"
            ]
          },
          "metadata": {},
          "execution_count": 34
        }
      ]
    },
    {
      "cell_type": "markdown",
      "metadata": {
        "id": "ApwnVpnbd3rM"
      },
      "source": [
        "## Text preprocessing"
      ]
    },
    {
      "cell_type": "markdown",
      "metadata": {
        "id": "txqPcTU5eW4q"
      },
      "source": [
        "Let's define a function to read file that contains stopwords."
      ]
    },
    {
      "cell_type": "code",
      "metadata": {
        "id": "WubhFFrAnSSx"
      },
      "source": [
        "# define a function to read file\n",
        "def readFile(filename):\n",
        "  fileObj = open(filename, 'r') # open the file in read mode\n",
        "  words = fileObj.read().splitlines() # puts the file into an array\n",
        "  fileObj.close()\n",
        "  return words"
      ],
      "execution_count": null,
      "outputs": []
    },
    {
      "cell_type": "code",
      "metadata": {
        "colab": {
          "base_uri": "https://localhost:8080/"
        },
        "id": "Ir9TuV6Une_Q",
        "outputId": "26056dc7-9db8-4afc-ee08-2d654e876950"
      },
      "source": [
        "stopwords = readFile('/content/drive/MyDrive/AI-Internship/persian_stopwords_kharazi.txt')\n",
        "print(f'length of stop words : {len(stopwords)}')"
      ],
      "execution_count": null,
      "outputs": [
        {
          "output_type": "stream",
          "name": "stdout",
          "text": [
            "length of stop words : 1370\n"
          ]
        }
      ]
    },
    {
      "cell_type": "markdown",
      "metadata": {
        "id": "Vi02G3uAeeTO"
      },
      "source": [
        "Let's install and import libraries."
      ]
    },
    {
      "cell_type": "code",
      "metadata": {
        "colab": {
          "base_uri": "https://localhost:8080/"
        },
        "id": "rjcEpDgnn8LP",
        "outputId": "2ccf24ab-0233-4c22-ee3d-f61b3ca72b33"
      },
      "source": [
        "!pip install parsivar"
      ],
      "execution_count": null,
      "outputs": [
        {
          "output_type": "stream",
          "name": "stdout",
          "text": [
            "Collecting parsivar\n",
            "  Downloading parsivar-0.2.3.tar.gz (36.2 MB)\n",
            "\u001b[K     |████████████████████████████████| 36.2 MB 62 kB/s \n",
            "\u001b[?25hCollecting nltk==3.4.5\n",
            "  Downloading nltk-3.4.5.zip (1.5 MB)\n",
            "\u001b[K     |████████████████████████████████| 1.5 MB 50.7 MB/s \n",
            "\u001b[?25hRequirement already satisfied: six in /usr/local/lib/python3.7/dist-packages (from nltk==3.4.5->parsivar) (1.15.0)\n",
            "Building wheels for collected packages: parsivar, nltk\n",
            "  Building wheel for parsivar (setup.py) ... \u001b[?25l\u001b[?25hdone\n",
            "  Created wheel for parsivar: filename=parsivar-0.2.3-py3-none-any.whl size=36492971 sha256=2a82661b442230839d0633d8142710e75fbdd49a513fcb8f195fce0dd02ebccf\n",
            "  Stored in directory: /root/.cache/pip/wheels/ae/67/7a/49cbf08f64d3f76a26eceaf0e481a40e233f05d4356875cbed\n",
            "  Building wheel for nltk (setup.py) ... \u001b[?25l\u001b[?25hdone\n",
            "  Created wheel for nltk: filename=nltk-3.4.5-py3-none-any.whl size=1449922 sha256=6227603f533ae37302427f38a10853a34cff2bcc328e69ace743940fe219b4a1\n",
            "  Stored in directory: /root/.cache/pip/wheels/48/8b/7f/473521e0c731c6566d631b281f323842bbda9bd819eb9a3ead\n",
            "Successfully built parsivar nltk\n",
            "Installing collected packages: nltk, parsivar\n",
            "  Attempting uninstall: nltk\n",
            "    Found existing installation: nltk 3.2.5\n",
            "    Uninstalling nltk-3.2.5:\n",
            "      Successfully uninstalled nltk-3.2.5\n",
            "Successfully installed nltk-3.4.5 parsivar-0.2.3\n"
          ]
        }
      ]
    },
    {
      "cell_type": "code",
      "metadata": {
        "colab": {
          "base_uri": "https://localhost:8080/"
        },
        "id": "orPiWTEmn_Pc",
        "outputId": "a60735a6-3641-4dc4-9239-692824a7115a"
      },
      "source": [
        "# Loading NLTk\n",
        "import nltk\n",
        "nltk.download('punkt')"
      ],
      "execution_count": null,
      "outputs": [
        {
          "output_type": "stream",
          "name": "stderr",
          "text": [
            "[nltk_data] Downloading package punkt to /root/nltk_data...\n",
            "[nltk_data]   Unzipping tokenizers/punkt.zip.\n"
          ]
        },
        {
          "output_type": "execute_result",
          "data": {
            "text/plain": [
              "True"
            ]
          },
          "metadata": {},
          "execution_count": 5
        }
      ]
    },
    {
      "cell_type": "code",
      "metadata": {
        "id": "P5TNnZ30oDEp"
      },
      "source": [
        "# NLP libraries\n",
        "import parsivar\n",
        "from parsivar import Normalizer, Tokenizer, FindStems, POSTagger, FindChunks\n",
        "\n",
        "# plot\n",
        "import matplotlib.pyplot as plt\n",
        "\n",
        "import pandas as pd\n",
        "import string\n",
        "import re\n",
        "import numpy as np\n",
        "np.random.seed(0)\n",
        "\n",
        "import warnings\n",
        "warnings.filterwarnings('ignore')"
      ],
      "execution_count": null,
      "outputs": []
    },
    {
      "cell_type": "code",
      "metadata": {
        "id": "l1RBBnA9nvSu"
      },
      "source": [
        "# define a function to delete '&' in the middle of verb stemming\n",
        "def delete_and(word):\n",
        "  idx = word.find(\"&\")\n",
        "  if idx!=-1:\n",
        "    word = word[:idx]\n",
        "  return word"
      ],
      "execution_count": null,
      "outputs": []
    },
    {
      "cell_type": "markdown",
      "metadata": {
        "id": "reZjV03YezwR"
      },
      "source": [
        "Let's define a function for text preprocessing."
      ]
    },
    {
      "cell_type": "code",
      "metadata": {
        "id": "zODzDb4gnyes"
      },
      "source": [
        "def data_preprocessing(review, stopwords):\n",
        "  try:\n",
        "\n",
        "    if type(review) == str:\n",
        "      # replace half-space with ' '\n",
        "      review =  re.sub('\\u200c', ' ',review)\n",
        "\n",
        "      # Normalizing the text\n",
        "      # First we should normalize text in order to convert persian numbers into english numbers then\n",
        "      # with following function (filter) delete them\n",
        "      # Because, some comments are pinglish, we should set pinglish_conversion_needed = True\n",
        "      normalizer = Normalizer(pinglish_conversion_needed=True) \n",
        "      review = normalizer.normalize(review)\n",
        "\n",
        "      # because after normalization appear some '/u200c', we should replace them with space\n",
        "      review =  re.sub('\\u200c', ' ',review)\n",
        "\n",
        "      # delete english characters and numbers from sentences\n",
        "      review = filter(lambda x: x in string.whitespace or x not in string.printable, review)\n",
        "      review = ''.join(ch for ch in list(review))\n",
        "    \n",
        "      if review != ' ':\n",
        "        # word tokenization\n",
        "        tokenizer = Tokenizer()\n",
        "        words = tokenizer.tokenize_words(review)\n",
        "\n",
        "        # stemming \n",
        "        stemmer = FindStems()\n",
        "        review = [stemmer.convert_to_stem(word) for word in words]\n",
        "\n",
        "        # we should delete '&', because after stemming we have '&' in between of our verbs\n",
        "        review = [delete_and(word) for word in review]\n",
        "\n",
        "        # remove stop words\n",
        "        words_without_stopword = filter(lambda x: x not in stopwords, review)\n",
        "        words_without_stopwords = list(words_without_stopword)\n",
        "\n",
        "        # join words in preprocessed review\n",
        "        review = ' '.join(words_without_stopwords)\n",
        "    \n",
        "      return review\n",
        "\n",
        "  except TypeError:\n",
        "    print(review)\n",
        "    raise"
      ],
      "execution_count": null,
      "outputs": []
    },
    {
      "cell_type": "code",
      "metadata": {
        "colab": {
          "base_uri": "https://localhost:8080/"
        },
        "id": "Gs775g2Sn0uD",
        "outputId": "4d8a24ed-06ae-483d-dd12-6ff02a838e1b"
      },
      "source": [
        "! pip install pandarallel"
      ],
      "execution_count": null,
      "outputs": [
        {
          "output_type": "stream",
          "name": "stdout",
          "text": [
            "Collecting pandarallel\n",
            "  Downloading pandarallel-1.5.2.tar.gz (16 kB)\n",
            "Requirement already satisfied: dill in /usr/local/lib/python3.7/dist-packages (from pandarallel) (0.3.4)\n",
            "Building wheels for collected packages: pandarallel\n",
            "  Building wheel for pandarallel (setup.py) ... \u001b[?25l\u001b[?25hdone\n",
            "  Created wheel for pandarallel: filename=pandarallel-1.5.2-py3-none-any.whl size=18398 sha256=c989faa0593a5e59c171c246053d0764fc7931d13f44eb2b596d5edc75fb0446\n",
            "  Stored in directory: /root/.cache/pip/wheels/b5/6d/51/9ece2eaf007ea3f7fb0ce053c5773b2eb0d308887da3af12c1\n",
            "Successfully built pandarallel\n",
            "Installing collected packages: pandarallel\n",
            "Successfully installed pandarallel-1.5.2\n"
          ]
        }
      ]
    },
    {
      "cell_type": "code",
      "metadata": {
        "id": "7EEDP37qoJbS"
      },
      "source": [
        "from pandarallel import pandarallel"
      ],
      "execution_count": null,
      "outputs": []
    },
    {
      "cell_type": "code",
      "metadata": {
        "colab": {
          "base_uri": "https://localhost:8080/"
        },
        "id": "Y-r8Rh0_oN9c",
        "outputId": "cfae08e6-8007-4a5e-ac8e-abb61a77aa7c"
      },
      "source": [
        "# initialize pandarallel\n",
        "pandarallel.initialize()"
      ],
      "execution_count": null,
      "outputs": [
        {
          "output_type": "stream",
          "name": "stdout",
          "text": [
            "INFO: Pandarallel will run on 2 workers.\n",
            "INFO: Pandarallel will use Memory file system to transfer data between the main process and workers.\n"
          ]
        }
      ]
    },
    {
      "cell_type": "markdown",
      "metadata": {
        "id": "m7Ys-M7ie9P5"
      },
      "source": [
        "This cell takes about 3 hours."
      ]
    },
    {
      "cell_type": "code",
      "metadata": {
        "id": "cW7jR1_poPkb"
      },
      "source": [
        "train['pre'] = train['comment'].parallel_apply(lambda text: data_preprocessing(text, stopwords))\n",
        "\n",
        "test['pre'] = test['comment'].parallel_apply(lambda text: data_preprocessing(text, stopwords))"
      ],
      "execution_count": null,
      "outputs": []
    },
    {
      "cell_type": "code",
      "metadata": {
        "id": "V2wSKXt2ojEV"
      },
      "source": [
        "#Save dataframe\n",
        "# !mkdir -p /content/drive/MyDrive/Digi_preprocessed\n",
        "# train.to_pickle('/content/drive/MyDrive/Digi_preprocessed/train_data')\n",
        "# test.to_pickle('/content/drive/MyDrive/Digi_preprocessed/test_data')"
      ],
      "execution_count": null,
      "outputs": []
    },
    {
      "cell_type": "code",
      "metadata": {
        "id": "ueOII9MT3wok"
      },
      "source": [
        "#load the preprocessing dataframe\n",
        "train = pd.read_pickle(r'/content/drive/MyDrive/Digi_preprocessed/train_data')\n",
        "test = pd.read_pickle(r'/content/drive/MyDrive/Digi_preprocessed/test_data')"
      ],
      "execution_count": null,
      "outputs": []
    },
    {
      "cell_type": "code",
      "metadata": {
        "colab": {
          "base_uri": "https://localhost:8080/",
          "height": 276
        },
        "id": "0x2gJ7OvoyB_",
        "outputId": "9a8d7e65-e3b1-4ae9-b770-727f4cf88df2"
      },
      "source": [
        "test.head()"
      ],
      "execution_count": null,
      "outputs": [
        {
          "output_type": "execute_result",
          "data": {
            "text/html": [
              "<div>\n",
              "<style scoped>\n",
              "    .dataframe tbody tr th:only-of-type {\n",
              "        vertical-align: middle;\n",
              "    }\n",
              "\n",
              "    .dataframe tbody tr th {\n",
              "        vertical-align: top;\n",
              "    }\n",
              "\n",
              "    .dataframe thead th {\n",
              "        text-align: right;\n",
              "    }\n",
              "</style>\n",
              "<table border=\"1\" class=\"dataframe\">\n",
              "  <thead>\n",
              "    <tr style=\"text-align: right;\">\n",
              "      <th></th>\n",
              "      <th>id</th>\n",
              "      <th>comment</th>\n",
              "      <th>product_id</th>\n",
              "      <th>product_title_fa</th>\n",
              "      <th>category_id</th>\n",
              "      <th>category_title_fa</th>\n",
              "      <th>is_buyer</th>\n",
              "      <th>pre</th>\n",
              "    </tr>\n",
              "  </thead>\n",
              "  <tbody>\n",
              "    <tr>\n",
              "      <th>0</th>\n",
              "      <td>1130083</td>\n",
              "      <td>پیشنهاد میکنم</td>\n",
              "      <td>723251</td>\n",
              "      <td>پایه نگهدارنده شارژر موبایل مدل Stop charge</td>\n",
              "      <td>81.0</td>\n",
              "      <td>پایه نگهدارنده گوشی و تبلت</td>\n",
              "      <td>True</td>\n",
              "      <td>پیشنهاد</td>\n",
              "    </tr>\n",
              "    <tr>\n",
              "      <th>1</th>\n",
              "      <td>1051036</td>\n",
              "      <td>اول یکی خریدم دیدم خیلی خوبه\\r\\nخداروشکر نظری ...</td>\n",
              "      <td>623643</td>\n",
              "      <td>کابل تبدیل USB به microUSB تسکو مدل TC 50 طول ...</td>\n",
              "      <td>80.0</td>\n",
              "      <td>کابل و مبدل</td>\n",
              "      <td>True</td>\n",
              "      <td>خرید دید خوبه نظری دراز بسنجمش ماه دید عالی دو...</td>\n",
              "    </tr>\n",
              "    <tr>\n",
              "      <th>2</th>\n",
              "      <td>1240179</td>\n",
              "      <td>نسبت به قیمت بصرفه هست</td>\n",
              "      <td>1552547</td>\n",
              "      <td>دستبند مدل S261-A</td>\n",
              "      <td>9541.0</td>\n",
              "      <td>دستبند زنانه و مردانه</td>\n",
              "      <td>True</td>\n",
              "      <td>نسبت قیمت بصرفه</td>\n",
              "    </tr>\n",
              "    <tr>\n",
              "      <th>3</th>\n",
              "      <td>1197397</td>\n",
              "      <td>داخل توضیحات نوشته درب عقب باز میشه ولی اینطور...</td>\n",
              "      <td>1545300</td>\n",
              "      <td>ماشین بازی طرح وانت نیسان مدل جونیور</td>\n",
              "      <td>6055.0</td>\n",
              "      <td>ماشین</td>\n",
              "      <td>True</td>\n",
              "      <td>توضیحات نوشته درب میشه اینطورنبود وجنسشم لاکه ...</td>\n",
              "    </tr>\n",
              "    <tr>\n",
              "      <th>4</th>\n",
              "      <td>1212378</td>\n",
              "      <td>خیلی زود ازبین میره روی پوت نمی مونه اصلا از خ...</td>\n",
              "      <td>81003</td>\n",
              "      <td>کرم پودر تیوبی مای  شماره 202</td>\n",
              "      <td>6462.0</td>\n",
              "      <td>کرم پودر</td>\n",
              "      <td>True</td>\n",
              "      <td>ازبین میره پوت نم مونه خرید راضی</td>\n",
              "    </tr>\n",
              "  </tbody>\n",
              "</table>\n",
              "</div>"
            ],
            "text/plain": [
              "        id  ...                                                pre\n",
              "0  1130083  ...                                            پیشنهاد\n",
              "1  1051036  ...  خرید دید خوبه نظری دراز بسنجمش ماه دید عالی دو...\n",
              "2  1240179  ...                                    نسبت قیمت بصرفه\n",
              "3  1197397  ...  توضیحات نوشته درب میشه اینطورنبود وجنسشم لاکه ...\n",
              "4  1212378  ...                   ازبین میره پوت نم مونه خرید راضی\n",
              "\n",
              "[5 rows x 8 columns]"
            ]
          },
          "metadata": {},
          "execution_count": 5
        }
      ]
    },
    {
      "cell_type": "code",
      "metadata": {
        "colab": {
          "base_uri": "https://localhost:8080/"
        },
        "id": "_5fhVSWOWYbS",
        "outputId": "b2d42a89-651a-441c-be4e-cdda70ff48a3"
      },
      "source": [
        "test.isnull().sum()"
      ],
      "execution_count": null,
      "outputs": [
        {
          "output_type": "execute_result",
          "data": {
            "text/plain": [
              "id                   0\n",
              "comment              3\n",
              "product_id           0\n",
              "product_title_fa     0\n",
              "category_id          0\n",
              "category_title_fa    0\n",
              "is_buyer             0\n",
              "pre                  3\n",
              "dtype: int64"
            ]
          },
          "metadata": {},
          "execution_count": 54
        }
      ]
    },
    {
      "cell_type": "markdown",
      "metadata": {
        "id": "IacUAE1gfG01"
      },
      "source": [
        "We should remove undesired columns. We need just comment column as a feature."
      ]
    },
    {
      "cell_type": "code",
      "metadata": {
        "id": "COMmRIBPo7L2"
      },
      "source": [
        "train.drop(labels=['id', 'comment', 'product_id', 'product_title_fa', 'category_id' , 'category_title_fa', 'is_buyer'], axis=1, inplace=True) # remove comment column"
      ],
      "execution_count": null,
      "outputs": []
    },
    {
      "cell_type": "code",
      "metadata": {
        "id": "Sk8N-sqzPVvj"
      },
      "source": [
        "test.drop(labels=['id', 'comment', 'product_id', 'product_title_fa', 'category_id' , 'category_title_fa', 'is_buyer'], axis=1, inplace=True)"
      ],
      "execution_count": null,
      "outputs": []
    },
    {
      "cell_type": "code",
      "metadata": {
        "id": "W3ZydveD4mXS"
      },
      "source": [
        "train.to_csv('/content/drive/MyDrive/Digi_preprocessed/train.csv', index=False)\n",
        "\n",
        "test.to_csv('/content/drive/MyDrive/Digi_preprocessed/test.csv', index=False)"
      ],
      "execution_count": null,
      "outputs": []
    },
    {
      "cell_type": "code",
      "metadata": {
        "id": "DuV3ROdMKnS8"
      },
      "source": [
        "train = pd.read_csv('/content/drive/MyDrive/Digi_preprocessed/train.csv')\n",
        "test = pd.read_csv('/content/drive/MyDrive/Digi_preprocessed/test.csv')"
      ],
      "execution_count": null,
      "outputs": []
    },
    {
      "cell_type": "code",
      "metadata": {
        "colab": {
          "base_uri": "https://localhost:8080/",
          "height": 694
        },
        "id": "5sQwLsk-XIkm",
        "outputId": "edbe76f6-943b-44e3-cccb-3d3890afc6e2"
      },
      "source": [
        "train.head(20)"
      ],
      "execution_count": null,
      "outputs": [
        {
          "output_type": "execute_result",
          "data": {
            "text/html": [
              "<div>\n",
              "<style scoped>\n",
              "    .dataframe tbody tr th:only-of-type {\n",
              "        vertical-align: middle;\n",
              "    }\n",
              "\n",
              "    .dataframe tbody tr th {\n",
              "        vertical-align: top;\n",
              "    }\n",
              "\n",
              "    .dataframe thead th {\n",
              "        text-align: right;\n",
              "    }\n",
              "</style>\n",
              "<table border=\"1\" class=\"dataframe\">\n",
              "  <thead>\n",
              "    <tr style=\"text-align: right;\">\n",
              "      <th></th>\n",
              "      <th>price_value</th>\n",
              "      <th>fake_originality</th>\n",
              "      <th>warranty</th>\n",
              "      <th>size</th>\n",
              "      <th>discrepancy</th>\n",
              "      <th>flavor_odor</th>\n",
              "      <th>expiration_date</th>\n",
              "      <th>pre</th>\n",
              "    </tr>\n",
              "  </thead>\n",
              "  <tbody>\n",
              "    <tr>\n",
              "      <th>0</th>\n",
              "      <td>1.0</td>\n",
              "      <td>0.0</td>\n",
              "      <td>0.0</td>\n",
              "      <td>0.0</td>\n",
              "      <td>0.0</td>\n",
              "      <td>0.0</td>\n",
              "      <td>0.0</td>\n",
              "      <td>ارزششو</td>\n",
              "    </tr>\n",
              "    <tr>\n",
              "      <th>1</th>\n",
              "      <td>0.0</td>\n",
              "      <td>0.0</td>\n",
              "      <td>0.0</td>\n",
              "      <td>0.0</td>\n",
              "      <td>0.0</td>\n",
              "      <td>0.0</td>\n",
              "      <td>0.0</td>\n",
              "      <td>دستگاه کاربردی طرز استفادشو زد اینقد دنبال کار</td>\n",
              "    </tr>\n",
              "    <tr>\n",
              "      <th>2</th>\n",
              "      <td>1.0</td>\n",
              "      <td>0.0</td>\n",
              "      <td>0.0</td>\n",
              "      <td>0.0</td>\n",
              "      <td>0.0</td>\n",
              "      <td>0.0</td>\n",
              "      <td>0.0</td>\n",
              "      <td>ارزان</td>\n",
              "    </tr>\n",
              "    <tr>\n",
              "      <th>3</th>\n",
              "      <td>0.0</td>\n",
              "      <td>0.0</td>\n",
              "      <td>0.0</td>\n",
              "      <td>1.0</td>\n",
              "      <td>0.0</td>\n",
              "      <td>0.0</td>\n",
              "      <td>0.0</td>\n",
              "      <td>اندازش خیلیییییی</td>\n",
              "    </tr>\n",
              "    <tr>\n",
              "      <th>4</th>\n",
              "      <td>0.0</td>\n",
              "      <td>0.0</td>\n",
              "      <td>0.0</td>\n",
              "      <td>0.0</td>\n",
              "      <td>0.0</td>\n",
              "      <td>0.0</td>\n",
              "      <td>0.0</td>\n",
              "      <td>چسبید دست</td>\n",
              "    </tr>\n",
              "    <tr>\n",
              "      <th>5</th>\n",
              "      <td>1.0</td>\n",
              "      <td>0.0</td>\n",
              "      <td>0.0</td>\n",
              "      <td>0.0</td>\n",
              "      <td>0.0</td>\n",
              "      <td>0.0</td>\n",
              "      <td>0.0</td>\n",
              "      <td>عالی قیمت مناسب فروش خرید</td>\n",
              "    </tr>\n",
              "    <tr>\n",
              "      <th>6</th>\n",
              "      <td>0.0</td>\n",
              "      <td>0.0</td>\n",
              "      <td>0.0</td>\n",
              "      <td>0.0</td>\n",
              "      <td>0.0</td>\n",
              "      <td>0.0</td>\n",
              "      <td>0.0</td>\n",
              "      <td>مصطفوی عالیه</td>\n",
              "    </tr>\n",
              "    <tr>\n",
              "      <th>7</th>\n",
              "      <td>0.0</td>\n",
              "      <td>0.0</td>\n",
              "      <td>0.0</td>\n",
              "      <td>0.0</td>\n",
              "      <td>0.0</td>\n",
              "      <td>0.0</td>\n",
              "      <td>0.0</td>\n",
              "      <td>NaN</td>\n",
              "    </tr>\n",
              "    <tr>\n",
              "      <th>8</th>\n",
              "      <td>0.0</td>\n",
              "      <td>0.0</td>\n",
              "      <td>0.0</td>\n",
              "      <td>1.0</td>\n",
              "      <td>0.0</td>\n",
              "      <td>0.0</td>\n",
              "      <td>0.0</td>\n",
              "      <td>عرض پرده توضیحات زده متر دوتا پرده عرض متر عرض...</td>\n",
              "    </tr>\n",
              "    <tr>\n",
              "      <th>9</th>\n",
              "      <td>0.0</td>\n",
              "      <td>0.0</td>\n",
              "      <td>0.0</td>\n",
              "      <td>0.0</td>\n",
              "      <td>0.0</td>\n",
              "      <td>0.0</td>\n",
              "      <td>0.0</td>\n",
              "      <td>بهداشت ماسک خوبه</td>\n",
              "    </tr>\n",
              "    <tr>\n",
              "      <th>10</th>\n",
              "      <td>0.0</td>\n",
              "      <td>0.0</td>\n",
              "      <td>0.0</td>\n",
              "      <td>0.0</td>\n",
              "      <td>0.0</td>\n",
              "      <td>0.0</td>\n",
              "      <td>0.0</td>\n",
              "      <td>دوتا</td>\n",
              "    </tr>\n",
              "    <tr>\n",
              "      <th>11</th>\n",
              "      <td>0.0</td>\n",
              "      <td>0.0</td>\n",
              "      <td>0.0</td>\n",
              "      <td>0.0</td>\n",
              "      <td>0.0</td>\n",
              "      <td>1.0</td>\n",
              "      <td>0.0</td>\n",
              "      <td>بستگی سلیقتون بوی جنگل بارونی نظرات نوشته حس</td>\n",
              "    </tr>\n",
              "    <tr>\n",
              "      <th>12</th>\n",
              "      <td>0.0</td>\n",
              "      <td>0.0</td>\n",
              "      <td>0.0</td>\n",
              "      <td>0.0</td>\n",
              "      <td>0.0</td>\n",
              "      <td>0.0</td>\n",
              "      <td>0.0</td>\n",
              "      <td>غلطک چرخش قفل</td>\n",
              "    </tr>\n",
              "    <tr>\n",
              "      <th>13</th>\n",
              "      <td>0.0</td>\n",
              "      <td>0.0</td>\n",
              "      <td>0.0</td>\n",
              "      <td>0.0</td>\n",
              "      <td>0.0</td>\n",
              "      <td>0.0</td>\n",
              "      <td>0.0</td>\n",
              "      <td>عالیه</td>\n",
              "    </tr>\n",
              "    <tr>\n",
              "      <th>14</th>\n",
              "      <td>0.0</td>\n",
              "      <td>0.0</td>\n",
              "      <td>0.0</td>\n",
              "      <td>0.0</td>\n",
              "      <td>0.0</td>\n",
              "      <td>0.0</td>\n",
              "      <td>0.0</td>\n",
              "      <td>کیفیت درصد گوشت نسبت استخونش</td>\n",
              "    </tr>\n",
              "    <tr>\n",
              "      <th>15</th>\n",
              "      <td>0.0</td>\n",
              "      <td>0.0</td>\n",
              "      <td>0.0</td>\n",
              "      <td>0.0</td>\n",
              "      <td>0.0</td>\n",
              "      <td>0.0</td>\n",
              "      <td>0.0</td>\n",
              "      <td>عالی عالی</td>\n",
              "    </tr>\n",
              "    <tr>\n",
              "      <th>16</th>\n",
              "      <td>0.0</td>\n",
              "      <td>0.0</td>\n",
              "      <td>0.0</td>\n",
              "      <td>0.0</td>\n",
              "      <td>0.0</td>\n",
              "      <td>0.0</td>\n",
              "      <td>0.0</td>\n",
              "      <td>پیشنهاد</td>\n",
              "    </tr>\n",
              "    <tr>\n",
              "      <th>17</th>\n",
              "      <td>1.0</td>\n",
              "      <td>0.0</td>\n",
              "      <td>0.0</td>\n",
              "      <td>0.0</td>\n",
              "      <td>0.0</td>\n",
              "      <td>0.0</td>\n",
              "      <td>0.0</td>\n",
              "      <td>هزینه کتاب هزارتومان قیمت برچسب چسبونده قیمت ه...</td>\n",
              "    </tr>\n",
              "    <tr>\n",
              "      <th>18</th>\n",
              "      <td>0.0</td>\n",
              "      <td>0.0</td>\n",
              "      <td>0.0</td>\n",
              "      <td>0.0</td>\n",
              "      <td>0.0</td>\n",
              "      <td>0.0</td>\n",
              "      <td>0.0</td>\n",
              "      <td>مشکل کار روزمره گیم سبک عالیه</td>\n",
              "    </tr>\n",
              "    <tr>\n",
              "      <th>19</th>\n",
              "      <td>0.0</td>\n",
              "      <td>0.0</td>\n",
              "      <td>0.0</td>\n",
              "      <td>0.0</td>\n",
              "      <td>0.0</td>\n",
              "      <td>0.0</td>\n",
              "      <td>0.0</td>\n",
              "      <td>خوندمش لذت برد خوندن کتاب</td>\n",
              "    </tr>\n",
              "  </tbody>\n",
              "</table>\n",
              "</div>"
            ],
            "text/plain": [
              "    price_value  ...                                                pre\n",
              "0           1.0  ...                                             ارزششو\n",
              "1           0.0  ...     دستگاه کاربردی طرز استفادشو زد اینقد دنبال کار\n",
              "2           1.0  ...                                              ارزان\n",
              "3           0.0  ...                                   اندازش خیلیییییی\n",
              "4           0.0  ...                                          چسبید دست\n",
              "5           1.0  ...                          عالی قیمت مناسب فروش خرید\n",
              "6           0.0  ...                                       مصطفوی عالیه\n",
              "7           0.0  ...                                                NaN\n",
              "8           0.0  ...  عرض پرده توضیحات زده متر دوتا پرده عرض متر عرض...\n",
              "9           0.0  ...                                   بهداشت ماسک خوبه\n",
              "10          0.0  ...                                               دوتا\n",
              "11          0.0  ...       بستگی سلیقتون بوی جنگل بارونی نظرات نوشته حس\n",
              "12          0.0  ...                                      غلطک چرخش قفل\n",
              "13          0.0  ...                                              عالیه\n",
              "14          0.0  ...                       کیفیت درصد گوشت نسبت استخونش\n",
              "15          0.0  ...                                          عالی عالی\n",
              "16          0.0  ...                                            پیشنهاد\n",
              "17          1.0  ...  هزینه کتاب هزارتومان قیمت برچسب چسبونده قیمت ه...\n",
              "18          0.0  ...                      مشکل کار روزمره گیم سبک عالیه\n",
              "19          0.0  ...                          خوندمش لذت برد خوندن کتاب\n",
              "\n",
              "[20 rows x 8 columns]"
            ]
          },
          "metadata": {},
          "execution_count": 5
        }
      ]
    },
    {
      "cell_type": "markdown",
      "metadata": {
        "id": "5SecHZnOflNy"
      },
      "source": [
        "As we can see, we have some rows with 'NaN' values, so we should replace them with space in train and test dataset."
      ]
    },
    {
      "cell_type": "code",
      "metadata": {
        "id": "2Xr7QkJrQ0P5"
      },
      "source": [
        "for i in range(test.shape[0]):\n",
        "  if type(test.pre[i]) != str:\n",
        "    test.pre[i] = \" \""
      ],
      "execution_count": null,
      "outputs": []
    },
    {
      "cell_type": "code",
      "metadata": {
        "id": "lAOVhnf1NNKU"
      },
      "source": [
        "for i in range(train.shape[0]):\n",
        "  if type(train.pre[i]) != str:\n",
        "    train.pre[i] = \" \""
      ],
      "execution_count": null,
      "outputs": []
    },
    {
      "cell_type": "code",
      "metadata": {
        "colab": {
          "base_uri": "https://localhost:8080/"
        },
        "id": "aqUhLc0ARPWq",
        "outputId": "751f34d8-c779-44fd-b09e-f20d75c39bad"
      },
      "source": [
        "test.isnull().sum()"
      ],
      "execution_count": null,
      "outputs": [
        {
          "output_type": "execute_result",
          "data": {
            "text/plain": [
              "pre    0\n",
              "dtype: int64"
            ]
          },
          "metadata": {},
          "execution_count": 8
        }
      ]
    },
    {
      "cell_type": "code",
      "metadata": {
        "colab": {
          "base_uri": "https://localhost:8080/",
          "height": 694
        },
        "id": "WYaSC5jONe0D",
        "outputId": "871e1153-fbf5-4832-9eed-1f04d457d06f"
      },
      "source": [
        "train.head(20)"
      ],
      "execution_count": null,
      "outputs": [
        {
          "output_type": "execute_result",
          "data": {
            "text/html": [
              "<div>\n",
              "<style scoped>\n",
              "    .dataframe tbody tr th:only-of-type {\n",
              "        vertical-align: middle;\n",
              "    }\n",
              "\n",
              "    .dataframe tbody tr th {\n",
              "        vertical-align: top;\n",
              "    }\n",
              "\n",
              "    .dataframe thead th {\n",
              "        text-align: right;\n",
              "    }\n",
              "</style>\n",
              "<table border=\"1\" class=\"dataframe\">\n",
              "  <thead>\n",
              "    <tr style=\"text-align: right;\">\n",
              "      <th></th>\n",
              "      <th>price_value</th>\n",
              "      <th>fake_originality</th>\n",
              "      <th>warranty</th>\n",
              "      <th>size</th>\n",
              "      <th>discrepancy</th>\n",
              "      <th>flavor_odor</th>\n",
              "      <th>expiration_date</th>\n",
              "      <th>pre</th>\n",
              "    </tr>\n",
              "  </thead>\n",
              "  <tbody>\n",
              "    <tr>\n",
              "      <th>0</th>\n",
              "      <td>1.0</td>\n",
              "      <td>0.0</td>\n",
              "      <td>0.0</td>\n",
              "      <td>0.0</td>\n",
              "      <td>0.0</td>\n",
              "      <td>0.0</td>\n",
              "      <td>0.0</td>\n",
              "      <td>ارزششو</td>\n",
              "    </tr>\n",
              "    <tr>\n",
              "      <th>1</th>\n",
              "      <td>0.0</td>\n",
              "      <td>0.0</td>\n",
              "      <td>0.0</td>\n",
              "      <td>0.0</td>\n",
              "      <td>0.0</td>\n",
              "      <td>0.0</td>\n",
              "      <td>0.0</td>\n",
              "      <td>دستگاه کاربردی طرز استفادشو زد اینقد دنبال کار</td>\n",
              "    </tr>\n",
              "    <tr>\n",
              "      <th>2</th>\n",
              "      <td>1.0</td>\n",
              "      <td>0.0</td>\n",
              "      <td>0.0</td>\n",
              "      <td>0.0</td>\n",
              "      <td>0.0</td>\n",
              "      <td>0.0</td>\n",
              "      <td>0.0</td>\n",
              "      <td>ارزان</td>\n",
              "    </tr>\n",
              "    <tr>\n",
              "      <th>3</th>\n",
              "      <td>0.0</td>\n",
              "      <td>0.0</td>\n",
              "      <td>0.0</td>\n",
              "      <td>1.0</td>\n",
              "      <td>0.0</td>\n",
              "      <td>0.0</td>\n",
              "      <td>0.0</td>\n",
              "      <td>اندازش خیلیییییی</td>\n",
              "    </tr>\n",
              "    <tr>\n",
              "      <th>4</th>\n",
              "      <td>0.0</td>\n",
              "      <td>0.0</td>\n",
              "      <td>0.0</td>\n",
              "      <td>0.0</td>\n",
              "      <td>0.0</td>\n",
              "      <td>0.0</td>\n",
              "      <td>0.0</td>\n",
              "      <td>چسبید دست</td>\n",
              "    </tr>\n",
              "    <tr>\n",
              "      <th>5</th>\n",
              "      <td>1.0</td>\n",
              "      <td>0.0</td>\n",
              "      <td>0.0</td>\n",
              "      <td>0.0</td>\n",
              "      <td>0.0</td>\n",
              "      <td>0.0</td>\n",
              "      <td>0.0</td>\n",
              "      <td>عالی قیمت مناسب فروش خرید</td>\n",
              "    </tr>\n",
              "    <tr>\n",
              "      <th>6</th>\n",
              "      <td>0.0</td>\n",
              "      <td>0.0</td>\n",
              "      <td>0.0</td>\n",
              "      <td>0.0</td>\n",
              "      <td>0.0</td>\n",
              "      <td>0.0</td>\n",
              "      <td>0.0</td>\n",
              "      <td>مصطفوی عالیه</td>\n",
              "    </tr>\n",
              "    <tr>\n",
              "      <th>7</th>\n",
              "      <td>0.0</td>\n",
              "      <td>0.0</td>\n",
              "      <td>0.0</td>\n",
              "      <td>0.0</td>\n",
              "      <td>0.0</td>\n",
              "      <td>0.0</td>\n",
              "      <td>0.0</td>\n",
              "      <td></td>\n",
              "    </tr>\n",
              "    <tr>\n",
              "      <th>8</th>\n",
              "      <td>0.0</td>\n",
              "      <td>0.0</td>\n",
              "      <td>0.0</td>\n",
              "      <td>1.0</td>\n",
              "      <td>0.0</td>\n",
              "      <td>0.0</td>\n",
              "      <td>0.0</td>\n",
              "      <td>عرض پرده توضیحات زده متر دوتا پرده عرض متر عرض...</td>\n",
              "    </tr>\n",
              "    <tr>\n",
              "      <th>9</th>\n",
              "      <td>0.0</td>\n",
              "      <td>0.0</td>\n",
              "      <td>0.0</td>\n",
              "      <td>0.0</td>\n",
              "      <td>0.0</td>\n",
              "      <td>0.0</td>\n",
              "      <td>0.0</td>\n",
              "      <td>بهداشت ماسک خوبه</td>\n",
              "    </tr>\n",
              "    <tr>\n",
              "      <th>10</th>\n",
              "      <td>0.0</td>\n",
              "      <td>0.0</td>\n",
              "      <td>0.0</td>\n",
              "      <td>0.0</td>\n",
              "      <td>0.0</td>\n",
              "      <td>0.0</td>\n",
              "      <td>0.0</td>\n",
              "      <td>دوتا</td>\n",
              "    </tr>\n",
              "    <tr>\n",
              "      <th>11</th>\n",
              "      <td>0.0</td>\n",
              "      <td>0.0</td>\n",
              "      <td>0.0</td>\n",
              "      <td>0.0</td>\n",
              "      <td>0.0</td>\n",
              "      <td>1.0</td>\n",
              "      <td>0.0</td>\n",
              "      <td>بستگی سلیقتون بوی جنگل بارونی نظرات نوشته حس</td>\n",
              "    </tr>\n",
              "    <tr>\n",
              "      <th>12</th>\n",
              "      <td>0.0</td>\n",
              "      <td>0.0</td>\n",
              "      <td>0.0</td>\n",
              "      <td>0.0</td>\n",
              "      <td>0.0</td>\n",
              "      <td>0.0</td>\n",
              "      <td>0.0</td>\n",
              "      <td>غلطک چرخش قفل</td>\n",
              "    </tr>\n",
              "    <tr>\n",
              "      <th>13</th>\n",
              "      <td>0.0</td>\n",
              "      <td>0.0</td>\n",
              "      <td>0.0</td>\n",
              "      <td>0.0</td>\n",
              "      <td>0.0</td>\n",
              "      <td>0.0</td>\n",
              "      <td>0.0</td>\n",
              "      <td>عالیه</td>\n",
              "    </tr>\n",
              "    <tr>\n",
              "      <th>14</th>\n",
              "      <td>0.0</td>\n",
              "      <td>0.0</td>\n",
              "      <td>0.0</td>\n",
              "      <td>0.0</td>\n",
              "      <td>0.0</td>\n",
              "      <td>0.0</td>\n",
              "      <td>0.0</td>\n",
              "      <td>کیفیت درصد گوشت نسبت استخونش</td>\n",
              "    </tr>\n",
              "    <tr>\n",
              "      <th>15</th>\n",
              "      <td>0.0</td>\n",
              "      <td>0.0</td>\n",
              "      <td>0.0</td>\n",
              "      <td>0.0</td>\n",
              "      <td>0.0</td>\n",
              "      <td>0.0</td>\n",
              "      <td>0.0</td>\n",
              "      <td>عالی عالی</td>\n",
              "    </tr>\n",
              "    <tr>\n",
              "      <th>16</th>\n",
              "      <td>0.0</td>\n",
              "      <td>0.0</td>\n",
              "      <td>0.0</td>\n",
              "      <td>0.0</td>\n",
              "      <td>0.0</td>\n",
              "      <td>0.0</td>\n",
              "      <td>0.0</td>\n",
              "      <td>پیشنهاد</td>\n",
              "    </tr>\n",
              "    <tr>\n",
              "      <th>17</th>\n",
              "      <td>1.0</td>\n",
              "      <td>0.0</td>\n",
              "      <td>0.0</td>\n",
              "      <td>0.0</td>\n",
              "      <td>0.0</td>\n",
              "      <td>0.0</td>\n",
              "      <td>0.0</td>\n",
              "      <td>هزینه کتاب هزارتومان قیمت برچسب چسبونده قیمت ه...</td>\n",
              "    </tr>\n",
              "    <tr>\n",
              "      <th>18</th>\n",
              "      <td>0.0</td>\n",
              "      <td>0.0</td>\n",
              "      <td>0.0</td>\n",
              "      <td>0.0</td>\n",
              "      <td>0.0</td>\n",
              "      <td>0.0</td>\n",
              "      <td>0.0</td>\n",
              "      <td>مشکل کار روزمره گیم سبک عالیه</td>\n",
              "    </tr>\n",
              "    <tr>\n",
              "      <th>19</th>\n",
              "      <td>0.0</td>\n",
              "      <td>0.0</td>\n",
              "      <td>0.0</td>\n",
              "      <td>0.0</td>\n",
              "      <td>0.0</td>\n",
              "      <td>0.0</td>\n",
              "      <td>0.0</td>\n",
              "      <td>خوندمش لذت برد خوندن کتاب</td>\n",
              "    </tr>\n",
              "  </tbody>\n",
              "</table>\n",
              "</div>"
            ],
            "text/plain": [
              "    price_value  ...                                                pre\n",
              "0           1.0  ...                                             ارزششو\n",
              "1           0.0  ...     دستگاه کاربردی طرز استفادشو زد اینقد دنبال کار\n",
              "2           1.0  ...                                              ارزان\n",
              "3           0.0  ...                                   اندازش خیلیییییی\n",
              "4           0.0  ...                                          چسبید دست\n",
              "5           1.0  ...                          عالی قیمت مناسب فروش خرید\n",
              "6           0.0  ...                                       مصطفوی عالیه\n",
              "7           0.0  ...                                                   \n",
              "8           0.0  ...  عرض پرده توضیحات زده متر دوتا پرده عرض متر عرض...\n",
              "9           0.0  ...                                   بهداشت ماسک خوبه\n",
              "10          0.0  ...                                               دوتا\n",
              "11          0.0  ...       بستگی سلیقتون بوی جنگل بارونی نظرات نوشته حس\n",
              "12          0.0  ...                                      غلطک چرخش قفل\n",
              "13          0.0  ...                                              عالیه\n",
              "14          0.0  ...                       کیفیت درصد گوشت نسبت استخونش\n",
              "15          0.0  ...                                          عالی عالی\n",
              "16          0.0  ...                                            پیشنهاد\n",
              "17          1.0  ...  هزینه کتاب هزارتومان قیمت برچسب چسبونده قیمت ه...\n",
              "18          0.0  ...                      مشکل کار روزمره گیم سبک عالیه\n",
              "19          0.0  ...                          خوندمش لذت برد خوندن کتاب\n",
              "\n",
              "[20 rows x 8 columns]"
            ]
          },
          "metadata": {},
          "execution_count": 9
        }
      ]
    },
    {
      "cell_type": "code",
      "metadata": {
        "colab": {
          "base_uri": "https://localhost:8080/",
          "height": 206
        },
        "id": "AVn_RwheRXKv",
        "outputId": "6915a943-8988-4522-b69a-086c166bbc57"
      },
      "source": [
        "test.head()"
      ],
      "execution_count": null,
      "outputs": [
        {
          "output_type": "execute_result",
          "data": {
            "text/html": [
              "<div>\n",
              "<style scoped>\n",
              "    .dataframe tbody tr th:only-of-type {\n",
              "        vertical-align: middle;\n",
              "    }\n",
              "\n",
              "    .dataframe tbody tr th {\n",
              "        vertical-align: top;\n",
              "    }\n",
              "\n",
              "    .dataframe thead th {\n",
              "        text-align: right;\n",
              "    }\n",
              "</style>\n",
              "<table border=\"1\" class=\"dataframe\">\n",
              "  <thead>\n",
              "    <tr style=\"text-align: right;\">\n",
              "      <th></th>\n",
              "      <th>pre</th>\n",
              "    </tr>\n",
              "  </thead>\n",
              "  <tbody>\n",
              "    <tr>\n",
              "      <th>0</th>\n",
              "      <td>پیشنهاد</td>\n",
              "    </tr>\n",
              "    <tr>\n",
              "      <th>1</th>\n",
              "      <td>خرید دید خوبه نظری دراز بسنجمش ماه دید عالی دو...</td>\n",
              "    </tr>\n",
              "    <tr>\n",
              "      <th>2</th>\n",
              "      <td>نسبت قیمت بصرفه</td>\n",
              "    </tr>\n",
              "    <tr>\n",
              "      <th>3</th>\n",
              "      <td>توضیحات نوشته درب میشه اینطورنبود وجنسشم لاکه ...</td>\n",
              "    </tr>\n",
              "    <tr>\n",
              "      <th>4</th>\n",
              "      <td>ازبین میره پوت نم مونه خرید راضی</td>\n",
              "    </tr>\n",
              "  </tbody>\n",
              "</table>\n",
              "</div>"
            ],
            "text/plain": [
              "                                                 pre\n",
              "0                                            پیشنهاد\n",
              "1  خرید دید خوبه نظری دراز بسنجمش ماه دید عالی دو...\n",
              "2                                    نسبت قیمت بصرفه\n",
              "3  توضیحات نوشته درب میشه اینطورنبود وجنسشم لاکه ...\n",
              "4                   ازبین میره پوت نم مونه خرید راضی"
            ]
          },
          "metadata": {},
          "execution_count": 10
        }
      ]
    },
    {
      "cell_type": "markdown",
      "metadata": {
        "id": "5Q8MDx6hgYp5"
      },
      "source": [
        "## Feature extractio with TF-IDF"
      ]
    },
    {
      "cell_type": "code",
      "metadata": {
        "colab": {
          "base_uri": "https://localhost:8080/"
        },
        "id": "xwt5IcHiP_VB",
        "outputId": "e14ad620-dc67-44c8-8edb-ef71469ace26"
      },
      "source": [
        "from sklearn.feature_extraction.text import TfidfVectorizer\n",
        "from sklearn.feature_extraction.text import CountVectorizer\n",
        "\n",
        "tf = TfidfVectorizer(min_df=5)\n",
        "X_train_tfidf = tf.fit_transform(train['pre'])\n",
        "X_test_tfidf = tf.transform(test['pre'])\n",
        "\n",
        "print(f'X_train_tfidf shape : {X_train_tfidf.shape}')\n",
        "print(f'X_test_tfidf shape : {X_test_tfidf.shape}')"
      ],
      "execution_count": null,
      "outputs": [
        {
          "output_type": "stream",
          "name": "stdout",
          "text": [
            "X_train_tfidf shape : (224125, 9936)\n",
            "X_test_tfidf shape : (56033, 9936)\n"
          ]
        }
      ]
    },
    {
      "cell_type": "code",
      "metadata": {
        "id": "82jrFOhmTNjx"
      },
      "source": [
        "train1 = train.copy()\n",
        "y_train = train1.drop(labels=['pre'], axis=1) # remove useless columns"
      ],
      "execution_count": null,
      "outputs": []
    },
    {
      "cell_type": "code",
      "metadata": {
        "colab": {
          "base_uri": "https://localhost:8080/",
          "height": 424
        },
        "id": "teF1fW_HTgKZ",
        "outputId": "553ba32f-5b31-4e1d-96da-af5e53d78dba"
      },
      "source": [
        "y_train"
      ],
      "execution_count": null,
      "outputs": [
        {
          "output_type": "execute_result",
          "data": {
            "text/html": [
              "<div>\n",
              "<style scoped>\n",
              "    .dataframe tbody tr th:only-of-type {\n",
              "        vertical-align: middle;\n",
              "    }\n",
              "\n",
              "    .dataframe tbody tr th {\n",
              "        vertical-align: top;\n",
              "    }\n",
              "\n",
              "    .dataframe thead th {\n",
              "        text-align: right;\n",
              "    }\n",
              "</style>\n",
              "<table border=\"1\" class=\"dataframe\">\n",
              "  <thead>\n",
              "    <tr style=\"text-align: right;\">\n",
              "      <th></th>\n",
              "      <th>price_value</th>\n",
              "      <th>fake_originality</th>\n",
              "      <th>warranty</th>\n",
              "      <th>size</th>\n",
              "      <th>discrepancy</th>\n",
              "      <th>flavor_odor</th>\n",
              "      <th>expiration_date</th>\n",
              "    </tr>\n",
              "  </thead>\n",
              "  <tbody>\n",
              "    <tr>\n",
              "      <th>0</th>\n",
              "      <td>1.0</td>\n",
              "      <td>0.0</td>\n",
              "      <td>0.0</td>\n",
              "      <td>0.0</td>\n",
              "      <td>0.0</td>\n",
              "      <td>0.0</td>\n",
              "      <td>0.0</td>\n",
              "    </tr>\n",
              "    <tr>\n",
              "      <th>1</th>\n",
              "      <td>0.0</td>\n",
              "      <td>0.0</td>\n",
              "      <td>0.0</td>\n",
              "      <td>0.0</td>\n",
              "      <td>0.0</td>\n",
              "      <td>0.0</td>\n",
              "      <td>0.0</td>\n",
              "    </tr>\n",
              "    <tr>\n",
              "      <th>2</th>\n",
              "      <td>1.0</td>\n",
              "      <td>0.0</td>\n",
              "      <td>0.0</td>\n",
              "      <td>0.0</td>\n",
              "      <td>0.0</td>\n",
              "      <td>0.0</td>\n",
              "      <td>0.0</td>\n",
              "    </tr>\n",
              "    <tr>\n",
              "      <th>3</th>\n",
              "      <td>0.0</td>\n",
              "      <td>0.0</td>\n",
              "      <td>0.0</td>\n",
              "      <td>1.0</td>\n",
              "      <td>0.0</td>\n",
              "      <td>0.0</td>\n",
              "      <td>0.0</td>\n",
              "    </tr>\n",
              "    <tr>\n",
              "      <th>4</th>\n",
              "      <td>0.0</td>\n",
              "      <td>0.0</td>\n",
              "      <td>0.0</td>\n",
              "      <td>0.0</td>\n",
              "      <td>0.0</td>\n",
              "      <td>0.0</td>\n",
              "      <td>0.0</td>\n",
              "    </tr>\n",
              "    <tr>\n",
              "      <th>...</th>\n",
              "      <td>...</td>\n",
              "      <td>...</td>\n",
              "      <td>...</td>\n",
              "      <td>...</td>\n",
              "      <td>...</td>\n",
              "      <td>...</td>\n",
              "      <td>...</td>\n",
              "    </tr>\n",
              "    <tr>\n",
              "      <th>224120</th>\n",
              "      <td>0.0</td>\n",
              "      <td>0.0</td>\n",
              "      <td>0.0</td>\n",
              "      <td>0.0</td>\n",
              "      <td>0.0</td>\n",
              "      <td>0.0</td>\n",
              "      <td>0.0</td>\n",
              "    </tr>\n",
              "    <tr>\n",
              "      <th>224121</th>\n",
              "      <td>1.0</td>\n",
              "      <td>0.0</td>\n",
              "      <td>0.0</td>\n",
              "      <td>0.0</td>\n",
              "      <td>0.0</td>\n",
              "      <td>0.0</td>\n",
              "      <td>1.0</td>\n",
              "    </tr>\n",
              "    <tr>\n",
              "      <th>224122</th>\n",
              "      <td>0.0</td>\n",
              "      <td>0.0</td>\n",
              "      <td>0.0</td>\n",
              "      <td>0.0</td>\n",
              "      <td>0.0</td>\n",
              "      <td>0.0</td>\n",
              "      <td>0.0</td>\n",
              "    </tr>\n",
              "    <tr>\n",
              "      <th>224123</th>\n",
              "      <td>0.0</td>\n",
              "      <td>0.0</td>\n",
              "      <td>0.0</td>\n",
              "      <td>0.0</td>\n",
              "      <td>0.0</td>\n",
              "      <td>0.0</td>\n",
              "      <td>0.0</td>\n",
              "    </tr>\n",
              "    <tr>\n",
              "      <th>224124</th>\n",
              "      <td>0.0</td>\n",
              "      <td>0.0</td>\n",
              "      <td>0.0</td>\n",
              "      <td>1.0</td>\n",
              "      <td>0.0</td>\n",
              "      <td>0.0</td>\n",
              "      <td>0.0</td>\n",
              "    </tr>\n",
              "  </tbody>\n",
              "</table>\n",
              "<p>224125 rows × 7 columns</p>\n",
              "</div>"
            ],
            "text/plain": [
              "        price_value  fake_originality  ...  flavor_odor  expiration_date\n",
              "0               1.0               0.0  ...          0.0              0.0\n",
              "1               0.0               0.0  ...          0.0              0.0\n",
              "2               1.0               0.0  ...          0.0              0.0\n",
              "3               0.0               0.0  ...          0.0              0.0\n",
              "4               0.0               0.0  ...          0.0              0.0\n",
              "...             ...               ...  ...          ...              ...\n",
              "224120          0.0               0.0  ...          0.0              0.0\n",
              "224121          1.0               0.0  ...          0.0              1.0\n",
              "224122          0.0               0.0  ...          0.0              0.0\n",
              "224123          0.0               0.0  ...          0.0              0.0\n",
              "224124          0.0               0.0  ...          0.0              0.0\n",
              "\n",
              "[224125 rows x 7 columns]"
            ]
          },
          "metadata": {},
          "execution_count": 13
        }
      ]
    },
    {
      "cell_type": "markdown",
      "metadata": {
        "id": "slPjKIoSf0qB"
      },
      "source": [
        "## Train the Random Forest classifier model"
      ]
    },
    {
      "cell_type": "markdown",
      "metadata": {
        "id": "FoI8wSJKgAZe"
      },
      "source": [
        "In this problem we have multi label classification, so we should use MultiOutputClassifier on the random forest model."
      ]
    },
    {
      "cell_type": "code",
      "metadata": {
        "id": "6OjolReRRt2i"
      },
      "source": [
        "from sklearn.multioutput import MultiOutputClassifier\n",
        "from sklearn.ensemble import RandomForestClassifier\n",
        "\n",
        "# xgb = xgb.XGBClassifier(bjective='binary:logistic')\n",
        "rf = RandomForestClassifier()\n",
        "\n",
        "multilabel_model = MultiOutputClassifier(rf)\n"
      ],
      "execution_count": null,
      "outputs": []
    },
    {
      "cell_type": "code",
      "metadata": {
        "colab": {
          "base_uri": "https://localhost:8080/"
        },
        "id": "Gp7oMxTrSEKh",
        "outputId": "40aa879f-860c-41d9-f63f-6f7016e172f4"
      },
      "source": [
        "# fit the model\n",
        "multilabel_model.fit(X_train_tfidf, y_train)"
      ],
      "execution_count": null,
      "outputs": [
        {
          "output_type": "execute_result",
          "data": {
            "text/plain": [
              "MultiOutputClassifier(estimator=RandomForestClassifier(bootstrap=True,\n",
              "                                                       ccp_alpha=0.0,\n",
              "                                                       class_weight=None,\n",
              "                                                       criterion='gini',\n",
              "                                                       max_depth=None,\n",
              "                                                       max_features='auto',\n",
              "                                                       max_leaf_nodes=None,\n",
              "                                                       max_samples=None,\n",
              "                                                       min_impurity_decrease=0.0,\n",
              "                                                       min_impurity_split=None,\n",
              "                                                       min_samples_leaf=1,\n",
              "                                                       min_samples_split=2,\n",
              "                                                       min_weight_fraction_leaf=0.0,\n",
              "                                                       n_estimators=100,\n",
              "                                                       n_jobs=None,\n",
              "                                                       oob_score=False,\n",
              "                                                       random_state=None,\n",
              "                                                       verbose=0,\n",
              "                                                       warm_start=False),\n",
              "                      n_jobs=None)"
            ]
          },
          "metadata": {},
          "execution_count": 15
        }
      ]
    },
    {
      "cell_type": "code",
      "metadata": {
        "id": "coBbYxwWSxmq"
      },
      "source": [
        "pred = multilabel_model.predict(X_test_tfidf)"
      ],
      "execution_count": null,
      "outputs": []
    },
    {
      "cell_type": "code",
      "metadata": {
        "colab": {
          "base_uri": "https://localhost:8080/"
        },
        "id": "GwL0YYjiUeps",
        "outputId": "d0bccaea-d6b9-4ca3-cb15-04b227c0265d"
      },
      "source": [
        "pred"
      ],
      "execution_count": null,
      "outputs": [
        {
          "output_type": "execute_result",
          "data": {
            "text/plain": [
              "array([[0., 0., 0., ..., 0., 0., 0.],\n",
              "       [0., 0., 0., ..., 0., 0., 0.],\n",
              "       [1., 0., 0., ..., 0., 0., 0.],\n",
              "       ...,\n",
              "       [0., 0., 0., ..., 0., 0., 0.],\n",
              "       [1., 0., 0., ..., 0., 0., 0.],\n",
              "       [0., 0., 0., ..., 0., 0., 0.]])"
            ]
          },
          "metadata": {},
          "execution_count": 17
        }
      ]
    },
    {
      "cell_type": "code",
      "metadata": {
        "colab": {
          "base_uri": "https://localhost:8080/"
        },
        "id": "77Q7hXrjWs7q",
        "outputId": "a6348ec3-46c4-4962-b321-5ca2ad550de9"
      },
      "source": [
        "pred.shape"
      ],
      "execution_count": null,
      "outputs": [
        {
          "output_type": "execute_result",
          "data": {
            "text/plain": [
              "(56033, 7)"
            ]
          },
          "metadata": {},
          "execution_count": 18
        }
      ]
    },
    {
      "cell_type": "markdown",
      "metadata": {
        "id": "z3vWP4c7gup5"
      },
      "source": [
        "In this problem, we have 7 labels in output, so we should define a list for each class and append the value of that label to its list."
      ]
    },
    {
      "cell_type": "code",
      "metadata": {
        "id": "3tbmxt6bXLnN"
      },
      "source": [
        "col0 = []\n",
        "col1 = []\n",
        "col2 = []\n",
        "col3 = []\n",
        "col4 = []\n",
        "col5 = []\n",
        "col6 = []\n",
        "\n",
        "for i in range(pred.shape[0]):\n",
        "  col0.append(int(pred[i][0]))\n",
        "  col1.append(int(pred[i][1]))\n",
        "  col2.append(int(pred[i][2]))\n",
        "  col3.append(int(pred[i][3]))\n",
        "  col4.append(int(pred[i][4]))\n",
        "  col5.append(int(pred[i][5]))\n",
        "  col6.append(int(pred[i][6]))"
      ],
      "execution_count": null,
      "outputs": []
    },
    {
      "cell_type": "markdown",
      "metadata": {
        "id": "al-YGLhShSjm"
      },
      "source": [
        "We want to save our output in the CSV file."
      ]
    },
    {
      "cell_type": "code",
      "metadata": {
        "id": "Wd1P9bK0VImb"
      },
      "source": [
        "result = pd.DataFrame({'id': test1.id.values, 'price_value': col0\n",
        "                       , 'fake_originality':col1, 'warranty':col2,\n",
        "                       'size':col3,'discrepancy':col4,\n",
        "                       'flavor_odor':col5, 'expiration_date':col6})\n",
        "\n",
        "result.to_csv('result_comment3.csv', index=False)"
      ],
      "execution_count": null,
      "outputs": []
    },
    {
      "cell_type": "code",
      "metadata": {
        "id": "OupiKTvgYh8z"
      },
      "source": [
        "result = pd.read_csv('/content/result_comment3.csv')"
      ],
      "execution_count": null,
      "outputs": []
    },
    {
      "cell_type": "code",
      "metadata": {
        "colab": {
          "base_uri": "https://localhost:8080/",
          "height": 206
        },
        "id": "wiu3zUlQYxAV",
        "outputId": "5122e108-3c8c-4d31-be2a-8d311401acc5"
      },
      "source": [
        "result.head()"
      ],
      "execution_count": null,
      "outputs": [
        {
          "output_type": "execute_result",
          "data": {
            "text/html": [
              "<div>\n",
              "<style scoped>\n",
              "    .dataframe tbody tr th:only-of-type {\n",
              "        vertical-align: middle;\n",
              "    }\n",
              "\n",
              "    .dataframe tbody tr th {\n",
              "        vertical-align: top;\n",
              "    }\n",
              "\n",
              "    .dataframe thead th {\n",
              "        text-align: right;\n",
              "    }\n",
              "</style>\n",
              "<table border=\"1\" class=\"dataframe\">\n",
              "  <thead>\n",
              "    <tr style=\"text-align: right;\">\n",
              "      <th></th>\n",
              "      <th>id</th>\n",
              "      <th>price_value</th>\n",
              "      <th>fake_originality</th>\n",
              "      <th>warranty</th>\n",
              "      <th>size</th>\n",
              "      <th>discrepancy</th>\n",
              "      <th>flavor_odor</th>\n",
              "      <th>expiration_date</th>\n",
              "    </tr>\n",
              "  </thead>\n",
              "  <tbody>\n",
              "    <tr>\n",
              "      <th>0</th>\n",
              "      <td>1130083</td>\n",
              "      <td>0</td>\n",
              "      <td>0</td>\n",
              "      <td>0</td>\n",
              "      <td>0</td>\n",
              "      <td>0</td>\n",
              "      <td>0</td>\n",
              "      <td>0</td>\n",
              "    </tr>\n",
              "    <tr>\n",
              "      <th>1</th>\n",
              "      <td>1051036</td>\n",
              "      <td>0</td>\n",
              "      <td>0</td>\n",
              "      <td>0</td>\n",
              "      <td>0</td>\n",
              "      <td>0</td>\n",
              "      <td>0</td>\n",
              "      <td>0</td>\n",
              "    </tr>\n",
              "    <tr>\n",
              "      <th>2</th>\n",
              "      <td>1240179</td>\n",
              "      <td>1</td>\n",
              "      <td>0</td>\n",
              "      <td>0</td>\n",
              "      <td>0</td>\n",
              "      <td>0</td>\n",
              "      <td>0</td>\n",
              "      <td>0</td>\n",
              "    </tr>\n",
              "    <tr>\n",
              "      <th>3</th>\n",
              "      <td>1197397</td>\n",
              "      <td>0</td>\n",
              "      <td>0</td>\n",
              "      <td>0</td>\n",
              "      <td>0</td>\n",
              "      <td>1</td>\n",
              "      <td>0</td>\n",
              "      <td>0</td>\n",
              "    </tr>\n",
              "    <tr>\n",
              "      <th>4</th>\n",
              "      <td>1212378</td>\n",
              "      <td>0</td>\n",
              "      <td>0</td>\n",
              "      <td>0</td>\n",
              "      <td>0</td>\n",
              "      <td>0</td>\n",
              "      <td>0</td>\n",
              "      <td>0</td>\n",
              "    </tr>\n",
              "  </tbody>\n",
              "</table>\n",
              "</div>"
            ],
            "text/plain": [
              "        id  price_value  ...  flavor_odor  expiration_date\n",
              "0  1130083            0  ...            0                0\n",
              "1  1051036            0  ...            0                0\n",
              "2  1240179            1  ...            0                0\n",
              "3  1197397            0  ...            0                0\n",
              "4  1212378            0  ...            0                0\n",
              "\n",
              "[5 rows x 8 columns]"
            ]
          },
          "metadata": {},
          "execution_count": 27
        }
      ]
    },
    {
      "cell_type": "code",
      "metadata": {
        "colab": {
          "base_uri": "https://localhost:8080/"
        },
        "id": "U-O3BMLhYz7r",
        "outputId": "c6798275-6d67-4e93-874b-b5ddfee1c0e9"
      },
      "source": [
        "result.shape"
      ],
      "execution_count": null,
      "outputs": [
        {
          "output_type": "execute_result",
          "data": {
            "text/plain": [
              "(56033, 8)"
            ]
          },
          "metadata": {},
          "execution_count": 39
        }
      ]
    },
    {
      "cell_type": "markdown",
      "metadata": {
        "id": "KH-JU4MlhfY2"
      },
      "source": [
        "This model gives us 85% accuracy in the contest."
      ]
    }
  ]
}